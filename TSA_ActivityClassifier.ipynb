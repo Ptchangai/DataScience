{
  "nbformat": 4,
  "nbformat_minor": 0,
  "metadata": {
    "colab": {
      "name": "TSA_ActivityClassifier.ipynb",
      "provenance": [],
      "collapsed_sections": [],
      "toc_visible": true,
      "authorship_tag": "ABX9TyP72d+iubPpCPWtP0xf+qyU",
      "include_colab_link": true
    },
    "kernelspec": {
      "display_name": "Python 3",
      "name": "python3"
    }
  },
  "cells": [
    {
      "cell_type": "markdown",
      "metadata": {
        "id": "view-in-github",
        "colab_type": "text"
      },
      "source": [
        "<a href=\"https://colab.research.google.com/github/Ptchangai/DataScience/blob/main/TSA_ActivityClassifier.ipynb\" target=\"_parent\"><img src=\"https://colab.research.google.com/assets/colab-badge.svg\" alt=\"Open In Colab\"/></a>"
      ]
    },
    {
      "cell_type": "markdown",
      "metadata": {
        "id": "lZ9jXG0K8M1y"
      },
      "source": [
        "## Time series classification\n",
        "\n",
        "We have time series corresponding to different physical activities.\n",
        "The goal is to create a model and train it to classify the time series according to the matching activity. We will export the model to be used in Unity, with Barracuda.\n",
        "\n",
        "We use data from the  WISDM Lab, that collects sensor data from mobile device to work on activity recognition. The activities include walking, jogging, sitting, going upstairs and downstars,  and standing."
      ]
    },
    {
      "cell_type": "markdown",
      "metadata": {
        "id": "9r6s9bhAS4GC"
      },
      "source": [
        "# Nytt avsnitt"
      ]
    },
    {
      "cell_type": "markdown",
      "metadata": {
        "id": "p6qWuk31xg4Q"
      },
      "source": [
        "##Tools"
      ]
    },
    {
      "cell_type": "code",
      "metadata": {
        "id": "VVXJxsBMHKRQ"
      },
      "source": [
        "#Helper libraries\n",
        "import pandas as pd\n",
        "import numpy as np\n",
        "#Statistical data visualization library:\n",
        "import seaborn as sns\n",
        "import matplotlib.pyplot as plt\n",
        "\n",
        "import tensorflow as tf\n",
        "from tensorflow import keras\n"
      ],
      "execution_count": null,
      "outputs": []
    },
    {
      "cell_type": "code",
      "metadata": {
        "colab": {
          "base_uri": "https://localhost:8080/",
          "height": 1000
        },
        "id": "nE42nljcCwww",
        "outputId": "50cd6aa6-f9c8-4caa-df81-7d0f839381ab"
      },
      "source": [
        "\n",
        "#load data\n",
        "!gdown --id 152sWECukjvLerrVG2NUO8gtMFg83RKCF --output WISDM_ar_latest.tar.gz\n",
        "!tar -xvf WISDM_ar_latest.tar.gz\n",
        "\n",
        "!pip install gdown\n",
        "!pip install tensorflow-gpu\n",
        "\n",
        "!pip install git+https://github.com/onnx/tensorflow-onnx\n"
      ],
      "execution_count": null,
      "outputs": [
        {
          "output_type": "stream",
          "text": [
            "Downloading...\n",
            "From: https://drive.google.com/uc?id=152sWECukjvLerrVG2NUO8gtMFg83RKCF\n",
            "To: /content/WISDM_ar_latest.tar.gz\n",
            "\r0.00B [00:00, ?B/s]\r11.4MB [00:00, 100MB/s]\n",
            "WISDM_ar_v1.1/\n",
            "WISDM_ar_v1.1/readme.txt\n",
            "WISDM_ar_v1.1/WISDM_ar_v1.1_raw.txt\n",
            "WISDM_ar_v1.1/WISDM_ar_v1.1_raw_about.txt\n",
            "WISDM_ar_v1.1/WISDM_ar_v1.1_transformed.arff\n",
            "WISDM_ar_v1.1/WISDM_ar_v1.1_trans_about.txt\n",
            "Requirement already satisfied: gdown in /usr/local/lib/python3.6/dist-packages (3.6.4)\n",
            "Requirement already satisfied: six in /usr/local/lib/python3.6/dist-packages (from gdown) (1.15.0)\n",
            "Requirement already satisfied: tqdm in /usr/local/lib/python3.6/dist-packages (from gdown) (4.41.1)\n",
            "Requirement already satisfied: requests in /usr/local/lib/python3.6/dist-packages (from gdown) (2.23.0)\n",
            "Requirement already satisfied: certifi>=2017.4.17 in /usr/local/lib/python3.6/dist-packages (from requests->gdown) (2020.11.8)\n",
            "Requirement already satisfied: urllib3!=1.25.0,!=1.25.1,<1.26,>=1.21.1 in /usr/local/lib/python3.6/dist-packages (from requests->gdown) (1.24.3)\n",
            "Requirement already satisfied: chardet<4,>=3.0.2 in /usr/local/lib/python3.6/dist-packages (from requests->gdown) (3.0.4)\n",
            "Requirement already satisfied: idna<3,>=2.5 in /usr/local/lib/python3.6/dist-packages (from requests->gdown) (2.10)\n",
            "Collecting tensorflow-gpu\n",
            "\u001b[?25l  Downloading https://files.pythonhosted.org/packages/18/99/ac32fd13d56e40d4c3e6150030132519997c0bb1f06f448d970e81b177e5/tensorflow_gpu-2.3.1-cp36-cp36m-manylinux2010_x86_64.whl (320.4MB)\n",
            "\u001b[K     |████████████████████████████████| 320.4MB 54kB/s \n",
            "\u001b[?25hRequirement already satisfied: keras-preprocessing<1.2,>=1.1.1 in /usr/local/lib/python3.6/dist-packages (from tensorflow-gpu) (1.1.2)\n",
            "Requirement already satisfied: numpy<1.19.0,>=1.16.0 in /usr/local/lib/python3.6/dist-packages (from tensorflow-gpu) (1.18.5)\n",
            "Requirement already satisfied: six>=1.12.0 in /usr/local/lib/python3.6/dist-packages (from tensorflow-gpu) (1.15.0)\n",
            "Requirement already satisfied: wheel>=0.26 in /usr/local/lib/python3.6/dist-packages (from tensorflow-gpu) (0.35.1)\n",
            "Requirement already satisfied: protobuf>=3.9.2 in /usr/local/lib/python3.6/dist-packages (from tensorflow-gpu) (3.12.4)\n",
            "Requirement already satisfied: termcolor>=1.1.0 in /usr/local/lib/python3.6/dist-packages (from tensorflow-gpu) (1.1.0)\n",
            "Requirement already satisfied: gast==0.3.3 in /usr/local/lib/python3.6/dist-packages (from tensorflow-gpu) (0.3.3)\n",
            "Requirement already satisfied: grpcio>=1.8.6 in /usr/local/lib/python3.6/dist-packages (from tensorflow-gpu) (1.33.2)\n",
            "Requirement already satisfied: astunparse==1.6.3 in /usr/local/lib/python3.6/dist-packages (from tensorflow-gpu) (1.6.3)\n",
            "Requirement already satisfied: wrapt>=1.11.1 in /usr/local/lib/python3.6/dist-packages (from tensorflow-gpu) (1.12.1)\n",
            "Requirement already satisfied: absl-py>=0.7.0 in /usr/local/lib/python3.6/dist-packages (from tensorflow-gpu) (0.10.0)\n",
            "Requirement already satisfied: tensorboard<3,>=2.3.0 in /usr/local/lib/python3.6/dist-packages (from tensorflow-gpu) (2.3.0)\n",
            "Requirement already satisfied: tensorflow-estimator<2.4.0,>=2.3.0 in /usr/local/lib/python3.6/dist-packages (from tensorflow-gpu) (2.3.0)\n",
            "Requirement already satisfied: opt-einsum>=2.3.2 in /usr/local/lib/python3.6/dist-packages (from tensorflow-gpu) (3.3.0)\n",
            "Requirement already satisfied: google-pasta>=0.1.8 in /usr/local/lib/python3.6/dist-packages (from tensorflow-gpu) (0.2.0)\n",
            "Requirement already satisfied: h5py<2.11.0,>=2.10.0 in /usr/local/lib/python3.6/dist-packages (from tensorflow-gpu) (2.10.0)\n",
            "Requirement already satisfied: setuptools in /usr/local/lib/python3.6/dist-packages (from protobuf>=3.9.2->tensorflow-gpu) (50.3.2)\n",
            "Requirement already satisfied: requests<3,>=2.21.0 in /usr/local/lib/python3.6/dist-packages (from tensorboard<3,>=2.3.0->tensorflow-gpu) (2.23.0)\n",
            "Requirement already satisfied: werkzeug>=0.11.15 in /usr/local/lib/python3.6/dist-packages (from tensorboard<3,>=2.3.0->tensorflow-gpu) (1.0.1)\n",
            "Requirement already satisfied: google-auth<2,>=1.6.3 in /usr/local/lib/python3.6/dist-packages (from tensorboard<3,>=2.3.0->tensorflow-gpu) (1.17.2)\n",
            "Requirement already satisfied: markdown>=2.6.8 in /usr/local/lib/python3.6/dist-packages (from tensorboard<3,>=2.3.0->tensorflow-gpu) (3.3.3)\n",
            "Requirement already satisfied: tensorboard-plugin-wit>=1.6.0 in /usr/local/lib/python3.6/dist-packages (from tensorboard<3,>=2.3.0->tensorflow-gpu) (1.7.0)\n",
            "Requirement already satisfied: google-auth-oauthlib<0.5,>=0.4.1 in /usr/local/lib/python3.6/dist-packages (from tensorboard<3,>=2.3.0->tensorflow-gpu) (0.4.2)\n",
            "Requirement already satisfied: certifi>=2017.4.17 in /usr/local/lib/python3.6/dist-packages (from requests<3,>=2.21.0->tensorboard<3,>=2.3.0->tensorflow-gpu) (2020.11.8)\n",
            "Requirement already satisfied: idna<3,>=2.5 in /usr/local/lib/python3.6/dist-packages (from requests<3,>=2.21.0->tensorboard<3,>=2.3.0->tensorflow-gpu) (2.10)\n",
            "Requirement already satisfied: chardet<4,>=3.0.2 in /usr/local/lib/python3.6/dist-packages (from requests<3,>=2.21.0->tensorboard<3,>=2.3.0->tensorflow-gpu) (3.0.4)\n",
            "Requirement already satisfied: urllib3!=1.25.0,!=1.25.1,<1.26,>=1.21.1 in /usr/local/lib/python3.6/dist-packages (from requests<3,>=2.21.0->tensorboard<3,>=2.3.0->tensorflow-gpu) (1.24.3)\n",
            "Requirement already satisfied: rsa<5,>=3.1.4; python_version >= \"3\" in /usr/local/lib/python3.6/dist-packages (from google-auth<2,>=1.6.3->tensorboard<3,>=2.3.0->tensorflow-gpu) (4.6)\n",
            "Requirement already satisfied: pyasn1-modules>=0.2.1 in /usr/local/lib/python3.6/dist-packages (from google-auth<2,>=1.6.3->tensorboard<3,>=2.3.0->tensorflow-gpu) (0.2.8)\n",
            "Requirement already satisfied: cachetools<5.0,>=2.0.0 in /usr/local/lib/python3.6/dist-packages (from google-auth<2,>=1.6.3->tensorboard<3,>=2.3.0->tensorflow-gpu) (4.1.1)\n",
            "Requirement already satisfied: importlib-metadata; python_version < \"3.8\" in /usr/local/lib/python3.6/dist-packages (from markdown>=2.6.8->tensorboard<3,>=2.3.0->tensorflow-gpu) (2.0.0)\n",
            "Requirement already satisfied: requests-oauthlib>=0.7.0 in /usr/local/lib/python3.6/dist-packages (from google-auth-oauthlib<0.5,>=0.4.1->tensorboard<3,>=2.3.0->tensorflow-gpu) (1.3.0)\n",
            "Requirement already satisfied: pyasn1>=0.1.3 in /usr/local/lib/python3.6/dist-packages (from rsa<5,>=3.1.4; python_version >= \"3\"->google-auth<2,>=1.6.3->tensorboard<3,>=2.3.0->tensorflow-gpu) (0.4.8)\n",
            "Requirement already satisfied: zipp>=0.5 in /usr/local/lib/python3.6/dist-packages (from importlib-metadata; python_version < \"3.8\"->markdown>=2.6.8->tensorboard<3,>=2.3.0->tensorflow-gpu) (3.4.0)\n",
            "Requirement already satisfied: oauthlib>=3.0.0 in /usr/local/lib/python3.6/dist-packages (from requests-oauthlib>=0.7.0->google-auth-oauthlib<0.5,>=0.4.1->tensorboard<3,>=2.3.0->tensorflow-gpu) (3.1.0)\n",
            "Installing collected packages: tensorflow-gpu\n",
            "Successfully installed tensorflow-gpu-2.3.1\n"
          ],
          "name": "stdout"
        },
        {
          "output_type": "display_data",
          "data": {
            "application/vnd.colab-display-data+json": {
              "pip_warning": {
                "packages": [
                  "tensorflow"
                ]
              }
            }
          },
          "metadata": {
            "tags": []
          }
        },
        {
          "output_type": "stream",
          "text": [
            "Collecting git+https://github.com/onnx/tensorflow-onnx\n",
            "  Cloning https://github.com/onnx/tensorflow-onnx to /tmp/pip-req-build-d99ox05d\n",
            "  Running command git clone -q https://github.com/onnx/tensorflow-onnx /tmp/pip-req-build-d99ox05d\n",
            "Requirement already satisfied: numpy>=1.14.1 in /usr/local/lib/python3.6/dist-packages (from tf2onnx==1.8.0) (1.18.5)\n",
            "Collecting onnx>=1.4.1\n",
            "\u001b[?25l  Downloading https://files.pythonhosted.org/packages/2a/82/e8d0fb64df623a3b716145192ed50604f444889778b37e0e9262753d5046/onnx-1.8.0-cp36-cp36m-manylinux2010_x86_64.whl (7.7MB)\n",
            "\u001b[K     |████████████████████████████████| 7.7MB 4.0MB/s \n",
            "\u001b[?25hRequirement already satisfied: requests in /usr/local/lib/python3.6/dist-packages (from tf2onnx==1.8.0) (2.23.0)\n",
            "Requirement already satisfied: six in /usr/local/lib/python3.6/dist-packages (from tf2onnx==1.8.0) (1.15.0)\n",
            "Requirement already satisfied: typing-extensions>=3.6.2.1 in /usr/local/lib/python3.6/dist-packages (from onnx>=1.4.1->tf2onnx==1.8.0) (3.7.4.3)\n",
            "Requirement already satisfied: protobuf in /usr/local/lib/python3.6/dist-packages (from onnx>=1.4.1->tf2onnx==1.8.0) (3.12.4)\n",
            "Requirement already satisfied: certifi>=2017.4.17 in /usr/local/lib/python3.6/dist-packages (from requests->tf2onnx==1.8.0) (2020.11.8)\n",
            "Requirement already satisfied: idna<3,>=2.5 in /usr/local/lib/python3.6/dist-packages (from requests->tf2onnx==1.8.0) (2.10)\n",
            "Requirement already satisfied: chardet<4,>=3.0.2 in /usr/local/lib/python3.6/dist-packages (from requests->tf2onnx==1.8.0) (3.0.4)\n",
            "Requirement already satisfied: urllib3!=1.25.0,!=1.25.1,<1.26,>=1.21.1 in /usr/local/lib/python3.6/dist-packages (from requests->tf2onnx==1.8.0) (1.24.3)\n",
            "Requirement already satisfied: setuptools in /usr/local/lib/python3.6/dist-packages (from protobuf->onnx>=1.4.1->tf2onnx==1.8.0) (50.3.2)\n",
            "Building wheels for collected packages: tf2onnx\n",
            "  Building wheel for tf2onnx (setup.py) ... \u001b[?25l\u001b[?25hdone\n",
            "  Created wheel for tf2onnx: filename=tf2onnx-1.8.0-cp36-none-any.whl size=203988 sha256=6de2f7a6042b6b8555f1c03e600e55ac5d10c5002a258ad1781574bbac1c3af0\n",
            "  Stored in directory: /tmp/pip-ephem-wheel-cache-e7i456nv/wheels/db/db/21/74f30455028095a1ee011391af71fb68fde8660aad68602f2a\n",
            "Successfully built tf2onnx\n",
            "Installing collected packages: onnx, tf2onnx\n",
            "Successfully installed onnx-1.8.0 tf2onnx-1.8.0\n"
          ],
          "name": "stdout"
        }
      ]
    },
    {
      "cell_type": "markdown",
      "metadata": {
        "id": "l7BMlAnRGO_r"
      },
      "source": [
        "#Prepare the data\n",
        "\n",
        "We add names and remove errors (z axis data are followed by ;)"
      ]
    },
    {
      "cell_type": "code",
      "metadata": {
        "id": "EXxoB-usDbbZ"
      },
      "source": [
        "#add names\n",
        "column_names = ['user_id', 'activity', 'timestamp', 'x_axis', 'y_axis', 'z_axis']\n",
        "\n",
        "df = pd.read_csv('WISDM_ar_v1.1/WISDM_ar_v1.1_raw.txt', header=None, names=column_names)\n",
        "\n",
        "#remove extra ; after column\n",
        "df.z_axis.replace(regex=True, inplace=True, to_replace=r';', value=r'')\n",
        "df['z_axis'] = df.z_axis.astype(np.float64)\n",
        "#remove missing values\n",
        "df.dropna(axis=0, how='any', inplace=True)"
      ],
      "execution_count": null,
      "outputs": []
    },
    {
      "cell_type": "markdown",
      "metadata": {
        "id": "3oiLMPesF_k0"
      },
      "source": [
        "##Examine the data\n",
        "We look into the data."
      ]
    },
    {
      "cell_type": "code",
      "metadata": {
        "colab": {
          "base_uri": "https://localhost:8080/",
          "height": 225
        },
        "id": "rYSHDINGGcQF",
        "outputId": "c4de1446-5df6-4f59-f62c-8d54fc24ee7e"
      },
      "source": [
        "#Peek into the data\n",
        "print(df.shape)\n",
        "df.head()"
      ],
      "execution_count": null,
      "outputs": [
        {
          "output_type": "stream",
          "text": [
            "(1098203, 6)\n"
          ],
          "name": "stdout"
        },
        {
          "output_type": "execute_result",
          "data": {
            "text/html": [
              "<div>\n",
              "<style scoped>\n",
              "    .dataframe tbody tr th:only-of-type {\n",
              "        vertical-align: middle;\n",
              "    }\n",
              "\n",
              "    .dataframe tbody tr th {\n",
              "        vertical-align: top;\n",
              "    }\n",
              "\n",
              "    .dataframe thead th {\n",
              "        text-align: right;\n",
              "    }\n",
              "</style>\n",
              "<table border=\"1\" class=\"dataframe\">\n",
              "  <thead>\n",
              "    <tr style=\"text-align: right;\">\n",
              "      <th></th>\n",
              "      <th>user_id</th>\n",
              "      <th>activity</th>\n",
              "      <th>timestamp</th>\n",
              "      <th>x_axis</th>\n",
              "      <th>y_axis</th>\n",
              "      <th>z_axis</th>\n",
              "    </tr>\n",
              "  </thead>\n",
              "  <tbody>\n",
              "    <tr>\n",
              "      <th>0</th>\n",
              "      <td>33</td>\n",
              "      <td>Jogging</td>\n",
              "      <td>49105962326000</td>\n",
              "      <td>-0.694638</td>\n",
              "      <td>12.680544</td>\n",
              "      <td>0.503953</td>\n",
              "    </tr>\n",
              "    <tr>\n",
              "      <th>1</th>\n",
              "      <td>33</td>\n",
              "      <td>Jogging</td>\n",
              "      <td>49106062271000</td>\n",
              "      <td>5.012288</td>\n",
              "      <td>11.264028</td>\n",
              "      <td>0.953424</td>\n",
              "    </tr>\n",
              "    <tr>\n",
              "      <th>2</th>\n",
              "      <td>33</td>\n",
              "      <td>Jogging</td>\n",
              "      <td>49106112167000</td>\n",
              "      <td>4.903325</td>\n",
              "      <td>10.882658</td>\n",
              "      <td>-0.081722</td>\n",
              "    </tr>\n",
              "    <tr>\n",
              "      <th>3</th>\n",
              "      <td>33</td>\n",
              "      <td>Jogging</td>\n",
              "      <td>49106222305000</td>\n",
              "      <td>-0.612916</td>\n",
              "      <td>18.496431</td>\n",
              "      <td>3.023717</td>\n",
              "    </tr>\n",
              "    <tr>\n",
              "      <th>4</th>\n",
              "      <td>33</td>\n",
              "      <td>Jogging</td>\n",
              "      <td>49106332290000</td>\n",
              "      <td>-1.184970</td>\n",
              "      <td>12.108489</td>\n",
              "      <td>7.205164</td>\n",
              "    </tr>\n",
              "  </tbody>\n",
              "</table>\n",
              "</div>"
            ],
            "text/plain": [
              "   user_id activity       timestamp    x_axis     y_axis    z_axis\n",
              "0       33  Jogging  49105962326000 -0.694638  12.680544  0.503953\n",
              "1       33  Jogging  49106062271000  5.012288  11.264028  0.953424\n",
              "2       33  Jogging  49106112167000  4.903325  10.882658 -0.081722\n",
              "3       33  Jogging  49106222305000 -0.612916  18.496431  3.023717\n",
              "4       33  Jogging  49106332290000 -1.184970  12.108489  7.205164"
            ]
          },
          "metadata": {
            "tags": []
          },
          "execution_count": 32
        }
      ]
    },
    {
      "cell_type": "code",
      "metadata": {
        "colab": {
          "base_uri": "https://localhost:8080/",
          "height": 279
        },
        "id": "TLxH05Z9GEBj",
        "outputId": "a018d5d9-3671-4e47-9b04-fbd03566ccf9"
      },
      "source": [
        "sns.countplot(x = 'activity',\n",
        "              data = df,\n",
        "              order = df.activity.value_counts().index);"
      ],
      "execution_count": null,
      "outputs": [
        {
          "output_type": "display_data",
          "data": {
            "image/png": "[encoded data removed]",
            "text/plain": [
              "<Figure size 432x288 with 1 Axes>"
            ]
          },
          "metadata": {
            "tags": [],
            "needs_background": "light"
          }
        }
      ]
    },
    {
      "cell_type": "code",
      "metadata": {
        "colab": {
          "base_uri": "https://localhost:8080/",
          "height": 296
        },
        "id": "bm3DsFwmHY44",
        "outputId": "e55b8250-8cbf-4b71-da5f-28d3d01b4165"
      },
      "source": [
        "sns.countplot(x = 'user_id',\n",
        "              data = df,\n",
        "              palette=[sns.color_palette()[0]],\n",
        "              order = df.user_id.value_counts().index);\n",
        "plt.title(\"Records per user\");"
      ],
      "execution_count": null,
      "outputs": [
        {
          "output_type": "display_data",
          "data": {
            "image/png": "[encoded data removed]",
            "text/plain": [
              "<Figure size 432x288 with 1 Axes>"
            ]
          },
          "metadata": {
            "tags": [],
            "needs_background": "light"
          }
        }
      ]
    },
    {
      "cell_type": "code",
      "metadata": {
        "colab": {
          "base_uri": "https://localhost:8080/",
          "height": 689
        },
        "id": "w_9S2kdPH41h",
        "outputId": "2c5f29b8-453b-46ed-a83c-09118b851f45"
      },
      "source": [
        "#plot activity \n",
        "\n",
        "def plot_activity(activity, df):\n",
        "    data = df[df['activity'] == activity][['x_axis', 'y_axis', 'z_axis']][:200]\n",
        "    axis = data.plot(subplots=True, figsize=(16, 12), \n",
        "                     title=activity)\n",
        "    for ax in axis:\n",
        "        ax.legend(loc='lower left', bbox_to_anchor=(1.0, 0.5))\n",
        "\n",
        "plot_activity(\"Sitting\", df);"
      ],
      "execution_count": null,
      "outputs": [
        {
          "output_type": "display_data",
          "data": {
            "image/png": "[encoded data removed]",
            "text/plain": [
              "<Figure size 1152x864 with 3 Axes>"
            ]
          },
          "metadata": {
            "tags": [],
            "needs_background": "light"
          }
        }
      ]
    },
    {
      "cell_type": "markdown",
      "metadata": {
        "id": "3bUqyP0NKU3C"
      },
      "source": [
        "##Preprocessing\n",
        "Now we need to preprocess the data. We split it into a training (30st) and a test set for later."
      ]
    },
    {
      "cell_type": "code",
      "metadata": {
        "id": "wJnGLjdQKjaM"
      },
      "source": [
        "df_train = df[df['user_id'] <= 30]\n",
        "df_test = df[df['user_id'] > 30]"
      ],
      "execution_count": null,
      "outputs": []
    },
    {
      "cell_type": "code",
      "metadata": {
        "colab": {
          "base_uri": "https://localhost:8080/"
        },
        "id": "BKQvyvZO_-Rj",
        "outputId": "a45ff9aa-a8b5-48d8-981b-38f430445e63"
      },
      "source": [
        "#scale the data\n",
        "from sklearn.preprocessing import RobustScaler\n",
        "\n",
        "scale_columns = ['x_axis', 'y_axis', 'z_axis']\n",
        "\n",
        "scaler = RobustScaler()\n",
        "\n",
        "scaler = scaler.fit(df_train[scale_columns])\n",
        "\n",
        "df_train.loc[:, scale_columns] = scaler.transform(df_train[scale_columns].to_numpy())\n",
        "df_test.loc[:, scale_columns] = scaler.transform(df_test[scale_columns].to_numpy())"
      ],
      "execution_count": null,
      "outputs": [
        {
          "output_type": "stream",
          "text": [
            "/usr/local/lib/python3.6/dist-packages/pandas/core/indexing.py:1734: SettingWithCopyWarning: \n",
            "A value is trying to be set on a copy of a slice from a DataFrame.\n",
            "Try using .loc[row_indexer,col_indexer] = value instead\n",
            "\n",
            "See the caveats in the documentation: https://pandas.pydata.org/pandas-docs/stable/user_guide/indexing.html#returning-a-view-versus-a-copy\n",
            "  isetter(loc, value[:, i].tolist())\n",
            "/usr/local/lib/python3.6/dist-packages/pandas/core/indexing.py:1734: SettingWithCopyWarning: \n",
            "A value is trying to be set on a copy of a slice from a DataFrame.\n",
            "Try using .loc[row_indexer,col_indexer] = value instead\n",
            "\n",
            "See the caveats in the documentation: https://pandas.pydata.org/pandas-docs/stable/user_guide/indexing.html#returning-a-view-versus-a-copy\n",
            "  isetter(loc, value[:, i].tolist())\n"
          ],
          "name": "stderr"
        }
      ]
    },
    {
      "cell_type": "code",
      "metadata": {
        "id": "Wij1lapTALI1"
      },
      "source": [
        "#create dataset. We create the sequences by modifying the usual create_dataset function:\n",
        "from scipy import stats\n",
        "\n",
        "def create_dataset(X, y, time_steps=1, step=1):\n",
        "    Xs, ys = [], []\n",
        "    for i in range(0, len(X) - time_steps, step):\n",
        "        v = X.iloc[i:(i + time_steps)].values #select columns\n",
        "        labels = y.iloc[i: i + time_steps]\n",
        "        Xs.append(v)        \n",
        "        ys.append(stats.mode(labels)[0][0])\n",
        "    return np.array(Xs), np.array(ys).reshape(-1, 1)\n",
        "\n",
        "#TIME_STEPS = 200\n",
        "TIME_STEPS = 3 #combien de temps dure chaque séquence ?\n",
        "STEP = 40\n",
        "\n",
        "X_train, y_train = create_dataset(\n",
        "    df_train[['x_axis', 'y_axis', 'z_axis']], \n",
        "    df_train.activity, \n",
        "    TIME_STEPS, \n",
        "    STEP\n",
        ")\n",
        "\n",
        "X_test, y_test = create_dataset(\n",
        "    df_test[['x_axis', 'y_axis', 'z_axis']], \n",
        "    df_test.activity, \n",
        "    TIME_STEPS, \n",
        "    STEP\n",
        ")"
      ],
      "execution_count": null,
      "outputs": []
    },
    {
      "cell_type": "code",
      "metadata": {
        "colab": {
          "base_uri": "https://localhost:8080/"
        },
        "id": "JGn5VwQTCN-E",
        "outputId": "756bb1ea-da00-44d7-880f-67518163891b"
      },
      "source": [
        "df_test.dtypes"
      ],
      "execution_count": null,
      "outputs": [
        {
          "output_type": "execute_result",
          "data": {
            "text/plain": [
              "user_id        int64\n",
              "activity      object\n",
              "timestamp      int64\n",
              "x_axis       float64\n",
              "y_axis       float64\n",
              "z_axis       float64\n",
              "dtype: object"
            ]
          },
          "metadata": {
            "tags": []
          },
          "execution_count": 40
        }
      ]
    },
    {
      "cell_type": "code",
      "metadata": {
        "id": "42TF1F4o79xN"
      },
      "source": [
        "import sklearn"
      ],
      "execution_count": null,
      "outputs": []
    },
    {
      "cell_type": "code",
      "metadata": {
        "id": "YUKyMdSp7MM5"
      },
      "source": [
        "#last preprocessing step, we encode the categories. pd.replace did not seem to work.\n",
        "\n",
        "enc = sklearn.preprocessing.OneHotEncoder(handle_unknown='ignore', sparse=False)\n",
        "\n",
        "enc = enc.fit(y_train)\n",
        "\n",
        "y_train = enc.transform(y_train)\n",
        "\n",
        "y_test = enc.transform(y_test)"
      ],
      "execution_count": null,
      "outputs": []
    },
    {
      "cell_type": "markdown",
      "metadata": {
        "id": "QUMBwLNUMVTl"
      },
      "source": [
        "#Classification"
      ]
    },
    {
      "cell_type": "markdown",
      "metadata": {
        "id": "Qeqbyz-JPs3t"
      },
      "source": [
        "##Model 1"
      ]
    },
    {
      "cell_type": "code",
      "metadata": {
        "id": "PrOpFbZsA8fC"
      },
      "source": [
        "#We need to build a LSTM Model for classification\n",
        "\n",
        "import tensorflow as tf\n",
        "from tensorflow import keras\n",
        "\n",
        "#Develop the Model. \"This is a simple Bidirectional LSTM model\" \n",
        "#!! Changer la mise en place du modèle\n",
        "#!! toucher à Bidirectional\n",
        "model = keras.Sequential()\n",
        "model.add(\n",
        "    keras.layers.Bidirectional(\n",
        "      keras.layers.LSTM(\n",
        "          units=128, \n",
        "          input_shape=[X_train.shape[1], X_train.shape[2]]\n",
        "      )\n",
        "    )\n",
        ")\n",
        "model.add(keras.layers.Dropout(rate=0.5))\n",
        "model.add(keras.layers.Dense(units=128, activation='relu'))\n",
        "model.add(keras.layers.Dense(units=128, activation='relu')) #1+\n",
        "model.add(keras.layers.Dense(y_train.shape[1], activation='softmax'))\n",
        "\n",
        "#we compile with categorical crossentropy because it is a multi-class classification problem\n",
        "model.compile(loss='categorical_crossentropy', optimizer='adam', metrics=['acc'])\n"
      ],
      "execution_count": null,
      "outputs": []
    },
    {
      "cell_type": "code",
      "metadata": {
        "id": "P0Or9-ltA_q4"
      },
      "source": [
        "#train the model. NO SHUFFLE\n",
        "history = model.fit(\n",
        "    X_train, y_train,\n",
        "    epochs=20,\n",
        "    batch_size=64,\n",
        "    validation_split=0.1,\n",
        "    shuffle=False\n",
        ")"
      ],
      "execution_count": null,
      "outputs": []
    },
    {
      "cell_type": "code",
      "metadata": {
        "colab": {
          "base_uri": "https://localhost:8080/",
          "height": 265
        },
        "id": "1SJgxLczBbfe",
        "outputId": "8c6e3adc-08d2-4178-bf85-15c225dc2e66"
      },
      "source": [
        "#check value loss to evaluate the model\n",
        "plt.plot(history.history['loss'], label='train')\n",
        "plt.plot(history.history['val_loss'], label='test')\n",
        "plt.legend();"
      ],
      "execution_count": null,
      "outputs": [
        {
          "output_type": "display_data",
          "data": {
            "image/png": "[encoded data removed]",
            "text/plain": [
              "<Figure size 432x288 with 1 Axes>"
            ]
          },
          "metadata": {
            "tags": []
          }
        }
      ]
    },
    {
      "cell_type": "code",
      "metadata": {
        "colab": {
          "base_uri": "https://localhost:8080/"
        },
        "id": "cU0w2Eh2z0Ee",
        "outputId": "4d6a1325-c352-464a-a990-44e217f2d706"
      },
      "source": [
        "\n",
        "model.evaluate(X_test, y_test)\n",
        "y_pred = model.predict(X_test)\n"
      ],
      "execution_count": null,
      "outputs": [
        {
          "output_type": "stream",
          "text": [
            "157/157 [==============================] - 1s 4ms/step - loss: 0.8726 - acc: 0.6849\n"
          ],
          "name": "stdout"
        }
      ]
    },
    {
      "cell_type": "code",
      "metadata": {
        "colab": {
          "base_uri": "https://localhost:8080/"
        },
        "id": "-3CTACwxLM8N",
        "outputId": "0483d09c-84fc-45c7-9c98-1ba2a05cbf8c"
      },
      "source": [
        "Prediction=enc.inverse_transform(y_pred)\n",
        "Test=enc.inverse_transform(y_test)\n",
        "\n",
        "sum(Prediction==Test)/len(Test)"
      ],
      "execution_count": null,
      "outputs": [
        {
          "output_type": "execute_result",
          "data": {
            "text/plain": [
              "array([0.68494796])"
            ]
          },
          "metadata": {
            "tags": []
          },
          "execution_count": 19
        }
      ]
    },
    {
      "cell_type": "code",
      "metadata": {
        "colab": {
          "base_uri": "https://localhost:8080/"
        },
        "id": "CkoxPR-GRL6D",
        "outputId": "849f9bff-8954-408d-8567-7499e81df495"
      },
      "source": [
        "model.save('/content/')"
      ],
      "execution_count": null,
      "outputs": [
        {
          "output_type": "stream",
          "text": [
            "INFO:tensorflow:Assets written to: /content/assets\n"
          ],
          "name": "stdout"
        }
      ]
    },
    {
      "cell_type": "code",
      "metadata": {
        "id": "2qL2BrnJ6TWj"
      },
      "source": [
        "!pip install git+https://github.com/onnx/tensorflow-onnx\n"
      ],
      "execution_count": null,
      "outputs": []
    },
    {
      "cell_type": "code",
      "metadata": {
        "id": "L1pX9_SaAFGV"
      },
      "source": [
        "!python -m tf2onnx.convert --saved-model /content/ --output model.onnx\n",
        "#!python -m tf2onnx.convert --graphdef /content/saved_model --inputs=input:0 --outputs=output:0 --output model.onnx"
      ],
      "execution_count": null,
      "outputs": []
    },
    {
      "cell_type": "markdown",
      "metadata": {
        "id": "-W9KroUkPko-"
      },
      "source": [
        "##Model 2"
      ]
    },
    {
      "cell_type": "code",
      "metadata": {
        "colab": {
          "base_uri": "https://localhost:8080/"
        },
        "id": "qs9P_RMwTpIx",
        "outputId": "64e388f6-143b-4c02-8143-b364297602ff"
      },
      "source": [
        "#We need to build a LSTM Model for classification\n",
        "#Develop the Model. \"This is a simple Bidirectional LSTM model\" \n",
        "model2 = keras.Sequential()\n",
        "#model2.add(keras.layers.Dropout(rate=0.5))\n",
        "model2.add(keras.layers.Dense(units=128, activation='relu'))\n",
        "model2.add(keras.layers.Dense(y_train.shape[1], activation='softmax'))\n",
        "model2.compile(loss='categorical_crossentropy', optimizer='adam', metrics=['acc'])\n",
        "model.summary()\n"
      ],
      "execution_count": null,
      "outputs": [
        {
          "output_type": "stream",
          "text": [
            "Model: \"sequential\"\n",
            "_________________________________________________________________\n",
            "Layer (type)                 Output Shape              Param #   \n",
            "=================================================================\n",
            "bidirectional (Bidirectional (None, 256)               135168    \n",
            "_________________________________________________________________\n",
            "dropout (Dropout)            (None, 256)               0         \n",
            "_________________________________________________________________\n",
            "dense (Dense)                (None, 128)               32896     \n",
            "_________________________________________________________________\n",
            "dense_1 (Dense)              (None, 128)               16512     \n",
            "_________________________________________________________________\n",
            "dense_2 (Dense)              (None, 6)                 774       \n",
            "=================================================================\n",
            "Total params: 185,350\n",
            "Trainable params: 185,350\n",
            "Non-trainable params: 0\n",
            "_________________________________________________________________\n"
          ],
          "name": "stdout"
        }
      ]
    },
    {
      "cell_type": "code",
      "metadata": {
        "colab": {
          "base_uri": "https://localhost:8080/"
        },
        "id": "mBB_-MbYVIfz",
        "outputId": "8b22aa1f-ca6f-4cdd-d1de-7b5eebf4e84b"
      },
      "source": [
        "model2 = keras.Sequential()\n",
        "model2.add(\n",
        "      keras.layers.LSTM(units=128, input_shape=[5, 3])\n",
        "    )\n",
        "model2.add(keras.layers.Dropout(rate=0.5))\n",
        "model2.add(keras.layers.Dense(units=128, activation='relu')) #1+\n",
        "model2.add(keras.layers.Dense(y_train.shape[1], activation='softmax'))\n",
        "\n",
        "#we compile with categorical crossentropy because it is a multi-class classification problem\n",
        "model2.compile(loss='categorical_crossentropy', optimizer='adam', metrics=['acc'])\n",
        "model2.summary()"
      ],
      "execution_count": null,
      "outputs": [
        {
          "output_type": "stream",
          "text": [
            "Model: \"sequential_3\"\n",
            "_________________________________________________________________\n",
            "Layer (type)                 Output Shape              Param #   \n",
            "=================================================================\n",
            "lstm_2 (LSTM)                (None, 128)               67584     \n",
            "_________________________________________________________________\n",
            "dropout_2 (Dropout)          (None, 128)               0         \n",
            "_________________________________________________________________\n",
            "dense_7 (Dense)              (None, 128)               16512     \n",
            "_________________________________________________________________\n",
            "dense_8 (Dense)              (None, 6)                 774       \n",
            "=================================================================\n",
            "Total params: 84,870\n",
            "Trainable params: 84,870\n",
            "Non-trainable params: 0\n",
            "_________________________________________________________________\n"
          ],
          "name": "stdout"
        }
      ]
    },
    {
      "cell_type": "code",
      "metadata": {
        "id": "o08EAaUZWrGn"
      },
      "source": [
        "model2 = tf.keras.Sequential([\n",
        "    tf.keras.layers.Flatten(input_shape=(28, 28)),\n",
        "    tf.keras.layers.Dense(128, activation='relu'),\n",
        "    tf.keras.layers.Dense(10)\n",
        "])\n"
      ],
      "execution_count": null,
      "outputs": []
    },
    {
      "cell_type": "code",
      "metadata": {
        "colab": {
          "base_uri": "https://localhost:8080/"
        },
        "id": "qhETBaegT9hg",
        "outputId": "ba6b0a1f-e4a2-4d4a-ef8d-a41c7319a564"
      },
      "source": [
        "#train the model. NO SHUFFLE\n",
        "history = model2.fit(\n",
        "    X_train, y_train,\n",
        "    epochs=10,\n",
        "    batch_size=64,\n",
        "    validation_split=0.1,\n",
        "    shuffle=False\n",
        ")\n",
        "Prediction=enc.inverse_transform(y_pred)\n",
        "Test=enc.inverse_transform(y_test)\n",
        "\n",
        "sum(Prediction==Test)/len(Test)\n"
      ],
      "execution_count": null,
      "outputs": [
        {
          "output_type": "stream",
          "text": [
            "Epoch 1/10\n",
            "316/316 [==============================] - 4s 13ms/step - loss: 1.4203 - acc: 0.5012 - val_loss: 1.1835 - val_acc: 0.5957\n",
            "Epoch 2/10\n",
            "316/316 [==============================] - 4s 12ms/step - loss: 1.2736 - acc: 0.5320 - val_loss: 1.1356 - val_acc: 0.6193\n",
            "Epoch 3/10\n",
            "316/316 [==============================] - 4s 11ms/step - loss: 1.1954 - acc: 0.5634 - val_loss: 1.0470 - val_acc: 0.6598\n",
            "Epoch 4/10\n",
            "316/316 [==============================] - 4s 11ms/step - loss: 1.0790 - acc: 0.6219 - val_loss: 0.9760 - val_acc: 0.6670\n",
            "Epoch 5/10\n",
            "316/316 [==============================] - 4s 11ms/step - loss: 1.0172 - acc: 0.6410 - val_loss: 0.9550 - val_acc: 0.6745\n",
            "Epoch 6/10\n",
            "316/316 [==============================] - 4s 11ms/step - loss: 0.9798 - acc: 0.6550 - val_loss: 0.9468 - val_acc: 0.6776\n",
            "Epoch 7/10\n",
            "316/316 [==============================] - 4s 11ms/step - loss: 0.9472 - acc: 0.6698 - val_loss: 0.9185 - val_acc: 0.6963\n",
            "Epoch 8/10\n",
            "316/316 [==============================] - 4s 11ms/step - loss: 0.9198 - acc: 0.6820 - val_loss: 0.8944 - val_acc: 0.7053\n",
            "Epoch 9/10\n",
            "316/316 [==============================] - 4s 11ms/step - loss: 0.8954 - acc: 0.6908 - val_loss: 0.8782 - val_acc: 0.7102\n",
            "Epoch 10/10\n",
            "316/316 [==============================] - 4s 11ms/step - loss: 0.8764 - acc: 0.6989 - val_loss: 0.8422 - val_acc: 0.7155\n"
          ],
          "name": "stdout"
        },
        {
          "output_type": "execute_result",
          "data": {
            "text/plain": [
              "array([0.67433947])"
            ]
          },
          "metadata": {
            "tags": []
          },
          "execution_count": 26
        }
      ]
    },
    {
      "cell_type": "code",
      "metadata": {
        "colab": {
          "base_uri": "https://localhost:8080/",
          "height": 265
        },
        "id": "Wsqqt-BiXG1Q",
        "outputId": "8eddf2d3-5e57-4d11-e93e-f09bc459238a"
      },
      "source": [
        "plt.plot(history.history['loss'], label='train')\n",
        "plt.plot(history.history['val_loss'], label='test')\n",
        "plt.legend();"
      ],
      "execution_count": null,
      "outputs": [
        {
          "output_type": "display_data",
          "data": {
            "image/png": "[encoded data removed]",
            "text/plain": [
              "<Figure size 432x288 with 1 Axes>"
            ]
          },
          "metadata": {
            "tags": []
          }
        }
      ]
    },
    {
      "cell_type": "code",
      "metadata": {
        "colab": {
          "base_uri": "https://localhost:8080/"
        },
        "id": "3y5BMAITUOjy",
        "outputId": "a1e721e8-6701-4b56-d661-f1379c55ab31"
      },
      "source": [
        "model2.evaluate(X_test, y_test)\n",
        "y_pred = model2.predict(X_test)\n",
        "model2.save('/content/3/')"
      ],
      "execution_count": null,
      "outputs": [
        {
          "output_type": "stream",
          "text": [
            "157/157 [==============================] - 1s 3ms/step - loss: 0.9613 - acc: 0.6717\n",
            "INFO:tensorflow:Assets written to: /content/3/assets\n"
          ],
          "name": "stdout"
        }
      ]
    },
    {
      "cell_type": "code",
      "metadata": {
        "id": "fDfx3AQnX4E5"
      },
      "source": [
        "!pip install git+https://github.com/onnx/tensorflow-onnx\n",
        "!python -m tf2onnx.convert --saved-model /content/3/ --output model.onnx"
      ],
      "execution_count": null,
      "outputs": []
    },
    {
      "cell_type": "markdown",
      "metadata": {
        "id": "S3bqdoAkPdS5"
      },
      "source": [
        "##Model 3"
      ]
    },
    {
      "cell_type": "code",
      "metadata": {
        "colab": {
          "base_uri": "https://localhost:8080/"
        },
        "id": "lPgSlJc1Z_Na",
        "outputId": "0053eed0-9aa7-4383-a5e6-039ce8c6ab46"
      },
      "source": [
        "#Reshape train array\n",
        "X_trainM3=[]\n",
        "[ X_trainM3.append(Xi.reshape(1,9)[0]) for Xi in X_train ]\n",
        "print(X_trainM3[1]) #vector of 9 values\n"
      ],
      "execution_count": null,
      "outputs": [
        {
          "output_type": "stream",
          "text": [
            "[0.13613874 0.10059377 0.46581909 0.14686343 0.02229717 0.48235709\n",
            " 0.26126005 0.10548731 0.61466072]\n"
          ],
          "name": "stdout"
        }
      ]
    },
    {
      "cell_type": "code",
      "metadata": {
        "colab": {
          "base_uri": "https://localhost:8080/"
        },
        "id": "BgFSmAWHfECG",
        "outputId": "9cd40c45-7663-4db0-de19-ab7ae1b06653"
      },
      "source": [
        "Y_trainM3=[]\n",
        "[Y_trainM3.append(Yi.argmax()) for Yi in y_train]\n",
        "print(Y_trainM3[1])"
      ],
      "execution_count": null,
      "outputs": [
        {
          "output_type": "stream",
          "text": [
            "5\n"
          ],
          "name": "stdout"
        }
      ]
    },
    {
      "cell_type": "code",
      "metadata": {
        "colab": {
          "base_uri": "https://localhost:8080/",
          "height": 206
        },
        "id": "HGkTws8-W1ws",
        "outputId": "573fe7ca-857d-4c3e-f303-520466dc0f0c"
      },
      "source": [
        "#Turn into dataframe\n",
        "\n",
        "df3= pd.DataFrame(X_trainM3)\n",
        "df3['category']=Y_trainM3\n",
        "df3.head()"
      ],
      "execution_count": null,
      "outputs": [
        {
          "output_type": "execute_result",
          "data": {
            "text/html": [
              "<div>\n",
              "<style scoped>\n",
              "    .dataframe tbody tr th:only-of-type {\n",
              "        vertical-align: middle;\n",
              "    }\n",
              "\n",
              "    .dataframe tbody tr th {\n",
              "        vertical-align: top;\n",
              "    }\n",
              "\n",
              "    .dataframe thead th {\n",
              "        text-align: right;\n",
              "    }\n",
              "</style>\n",
              "<table border=\"1\" class=\"dataframe\">\n",
              "  <thead>\n",
              "    <tr style=\"text-align: right;\">\n",
              "      <th></th>\n",
              "      <th>0</th>\n",
              "      <th>1</th>\n",
              "      <th>2</th>\n",
              "      <th>3</th>\n",
              "      <th>4</th>\n",
              "      <th>5</th>\n",
              "      <th>6</th>\n",
              "      <th>7</th>\n",
              "      <th>8</th>\n",
              "      <th>category</th>\n",
              "    </tr>\n",
              "  </thead>\n",
              "  <tbody>\n",
              "    <tr>\n",
              "      <th>0</th>\n",
              "      <td>0.019955</td>\n",
              "      <td>0.252293</td>\n",
              "      <td>-0.090959</td>\n",
              "      <td>-0.055118</td>\n",
              "      <td>0.297966</td>\n",
              "      <td>-0.099228</td>\n",
              "      <td>-0.085505</td>\n",
              "      <td>0.257187</td>\n",
              "      <td>-0.124035</td>\n",
              "      <td>5</td>\n",
              "    </tr>\n",
              "    <tr>\n",
              "      <th>1</th>\n",
              "      <td>0.136139</td>\n",
              "      <td>0.100594</td>\n",
              "      <td>0.465819</td>\n",
              "      <td>0.146863</td>\n",
              "      <td>0.022297</td>\n",
              "      <td>0.482357</td>\n",
              "      <td>0.261260</td>\n",
              "      <td>0.105487</td>\n",
              "      <td>0.614661</td>\n",
              "      <td>5</td>\n",
              "    </tr>\n",
              "    <tr>\n",
              "      <th>2</th>\n",
              "      <td>0.211212</td>\n",
              "      <td>0.771009</td>\n",
              "      <td>-0.005513</td>\n",
              "      <td>0.261260</td>\n",
              "      <td>-0.147346</td>\n",
              "      <td>-0.501651</td>\n",
              "      <td>-0.160577</td>\n",
              "      <td>0.059814</td>\n",
              "      <td>0.024807</td>\n",
              "      <td>5</td>\n",
              "    </tr>\n",
              "    <tr>\n",
              "      <th>3</th>\n",
              "      <td>-0.069418</td>\n",
              "      <td>0.614415</td>\n",
              "      <td>0.901319</td>\n",
              "      <td>-0.226713</td>\n",
              "      <td>-0.073942</td>\n",
              "      <td>0.016538</td>\n",
              "      <td>0.316671</td>\n",
              "      <td>0.335484</td>\n",
              "      <td>0.000000</td>\n",
              "      <td>5</td>\n",
              "    </tr>\n",
              "    <tr>\n",
              "      <th>4</th>\n",
              "      <td>0.191550</td>\n",
              "      <td>0.753066</td>\n",
              "      <td>-0.223262</td>\n",
              "      <td>0.307734</td>\n",
              "      <td>0.146267</td>\n",
              "      <td>-0.441012</td>\n",
              "      <td>0.175463</td>\n",
              "      <td>-0.210961</td>\n",
              "      <td>-0.286658</td>\n",
              "      <td>5</td>\n",
              "    </tr>\n",
              "  </tbody>\n",
              "</table>\n",
              "</div>"
            ],
            "text/plain": [
              "          0         1         2  ...         7         8  category\n",
              "0  0.019955  0.252293 -0.090959  ...  0.257187 -0.124035         5\n",
              "1  0.136139  0.100594  0.465819  ...  0.105487  0.614661         5\n",
              "2  0.211212  0.771009 -0.005513  ...  0.059814  0.024807         5\n",
              "3 -0.069418  0.614415  0.901319  ...  0.335484  0.000000         5\n",
              "4  0.191550  0.753066 -0.223262  ... -0.210961 -0.286658         5\n",
              "\n",
              "[5 rows x 10 columns]"
            ]
          },
          "metadata": {
            "tags": []
          },
          "execution_count": 73
        }
      ]
    },
    {
      "cell_type": "code",
      "metadata": {
        "id": "vYZeqfMDWOjU"
      },
      "source": [
        "\n",
        "\n",
        "\n",
        "\n",
        "X=df.iloc[:, 0:2]/2\n",
        "y=df.classe\n",
        "\n",
        "#!pip install tf-nightly\n",
        "import tensorflow as tf\n",
        "from tensorflow import keras\n",
        "\n",
        "model5 = tf.keras.Sequential([\n",
        "    tf.keras.layers.InputLayer(input_shape=(2,)),\n",
        "    tf.keras.layers.Dense(10, activation='relu'),\n",
        "    tf.keras.layers.Dense(2)\n",
        "])\n",
        "\n",
        "#model4.compile(loss='categorical_crossentropy', optimizer='adam', metrics=['acc'])\n",
        "model5.compile(optimizer='sgd', loss=tf.keras.losses.BinaryCrossentropy() )\n",
        "\n",
        "\n",
        "history = model5.fit(X, y, epochs=100,batch_size=64,validation_split=0.1, shuffle=False)\n",
        "\n",
        "model5.summary()\n",
        "\n"
      ],
      "execution_count": null,
      "outputs": []
    },
    {
      "cell_type": "code",
      "metadata": {
        "colab": {
          "background_save": true,
          "base_uri": "https://localhost:8080/"
        },
        "id": "TDzRvgbQZm5Q",
        "outputId": "23838118-7613-4ef5-a350-834a9e7241c5"
      },
      "source": [
        "model3 = keras.Sequential()\n",
        "#model3.add(keras.layers.InputLayer(input_shape=(9,)))\n",
        "model3.add(keras.layers.Dense(units=128, input_shape=[9,], activation='relu'))\n",
        "#model3.add(keras.layers.Dropout(rate=0.5))\n",
        "model3.add(keras.layers.Dense(units=128, activation='relu')) #1+\n",
        "#model3.add(keras.layers.Dense(y_train.shape[1], activation='softmax'))\n",
        "model3.add(keras.layers.Dense(y_train.shape[1], activation='softmax')) #6 values\n",
        "\n",
        "#we compile with categorical crossentropy because it is a multi-class classification problem\n",
        "model3.compile(loss='categorical_crossentropy', optimizer='adam', metrics=['acc'])\n",
        "model3.summary()\n"
      ],
      "execution_count": null,
      "outputs": [
        {
          "output_type": "stream",
          "text": [
            "Model: \"sequential_19\"\n",
            "_________________________________________________________________\n",
            "Layer (type)                 Output Shape              Param #   \n",
            "=================================================================\n",
            "dense_46 (Dense)             (None, 128)               1280      \n",
            "_________________________________________________________________\n",
            "dense_47 (Dense)             (None, 6)                 774       \n",
            "=================================================================\n",
            "Total params: 2,054\n",
            "Trainable params: 2,054\n",
            "Non-trainable params: 0\n",
            "_________________________________________________________________\n"
          ],
          "name": "stdout"
        }
      ]
    },
    {
      "cell_type": "code",
      "metadata": {
        "id": "YhpM6cAAamvr"
      },
      "source": [
        "history = model3.fit(\n",
        "    X_trainM3, y_train,\n",
        "    epochs=10,\n",
        "    batch_size=64,\n",
        "    validation_split=0.3,\n",
        "    shuffle=True\n",
        ")\n"
      ],
      "execution_count": null,
      "outputs": []
    },
    {
      "cell_type": "markdown",
      "metadata": {
        "id": "7zmpo0zVKI7u"
      },
      "source": [
        "#Basic Model"
      ]
    },
    {
      "cell_type": "code",
      "metadata": {
        "colab": {
          "base_uri": "https://localhost:8080/",
          "height": 206
        },
        "id": "K-FiN8K6Xes6",
        "outputId": "13c48023-1fde-42fb-b738-81afb586c5ff"
      },
      "source": [
        "#Create the data : 2 classes (1,0). 2dim data (x,y). \n",
        "import pandas as pd\n",
        "import h5py\n",
        "\n",
        "#Train=[[1,1,0],[1,1,0],[1,1,0],[1,1,0],[1,1,0],[1,1,0],[1,1,0],[1,1,0],[1,1,0],[1,1,0],[2,2,1],[2,2,1],[2,2,1],[2,2,1],[2,2,1],[2,2,1],[2,2,1],[2,2,1],[2,2,1],[2,2,1],[2,2,1],[2,2,1],[2,2,1],[2,2,1],[2,2,1],[2,2,1]]\n",
        "Train=[[1,1,0],[1,1,0],[1,1,0],[1,1,0],[1,1,0],[1,1,0],[1,1,0],[1,1,0],[1,1,0],[1,1,0],[2,2,2],[2,2,2],[2,2,2],[2,2,2],[2,2,2],[2,2,2],[2,2,2],[2,2,2],[2,2,2],[2,2,2],[2,2,2],[2,2,2],[2,2,2],[2,2,2],[2,2,2],[2,2,2]]\n",
        "\n",
        "df= pd.DataFrame(Train, columns=['x','y','classe'])\n",
        "\n",
        "\n",
        "X=df.iloc[:, 0:2]/2\n",
        "y=df.classe\n",
        "df.head()"
      ],
      "execution_count": null,
      "outputs": [
        {
          "output_type": "execute_result",
          "data": {
            "text/html": [
              "<div>\n",
              "<style scoped>\n",
              "    .dataframe tbody tr th:only-of-type {\n",
              "        vertical-align: middle;\n",
              "    }\n",
              "\n",
              "    .dataframe tbody tr th {\n",
              "        vertical-align: top;\n",
              "    }\n",
              "\n",
              "    .dataframe thead th {\n",
              "        text-align: right;\n",
              "    }\n",
              "</style>\n",
              "<table border=\"1\" class=\"dataframe\">\n",
              "  <thead>\n",
              "    <tr style=\"text-align: right;\">\n",
              "      <th></th>\n",
              "      <th>x</th>\n",
              "      <th>y</th>\n",
              "      <th>classe</th>\n",
              "    </tr>\n",
              "  </thead>\n",
              "  <tbody>\n",
              "    <tr>\n",
              "      <th>0</th>\n",
              "      <td>1</td>\n",
              "      <td>1</td>\n",
              "      <td>0</td>\n",
              "    </tr>\n",
              "    <tr>\n",
              "      <th>1</th>\n",
              "      <td>1</td>\n",
              "      <td>1</td>\n",
              "      <td>0</td>\n",
              "    </tr>\n",
              "    <tr>\n",
              "      <th>2</th>\n",
              "      <td>1</td>\n",
              "      <td>1</td>\n",
              "      <td>0</td>\n",
              "    </tr>\n",
              "    <tr>\n",
              "      <th>3</th>\n",
              "      <td>1</td>\n",
              "      <td>1</td>\n",
              "      <td>0</td>\n",
              "    </tr>\n",
              "    <tr>\n",
              "      <th>4</th>\n",
              "      <td>1</td>\n",
              "      <td>1</td>\n",
              "      <td>0</td>\n",
              "    </tr>\n",
              "  </tbody>\n",
              "</table>\n",
              "</div>"
            ],
            "text/plain": [
              "   x  y  classe\n",
              "0  1  1       0\n",
              "1  1  1       0\n",
              "2  1  1       0\n",
              "3  1  1       0\n",
              "4  1  1       0"
            ]
          },
          "metadata": {
            "tags": []
          },
          "execution_count": 27
        }
      ]
    },
    {
      "cell_type": "code",
      "metadata": {
        "colab": {
          "base_uri": "https://localhost:8080/"
        },
        "id": "mTJb5_3S98Z-",
        "outputId": "c5501d47-11a6-478f-a471-c7852c4f5b8a"
      },
      "source": [
        "#Create the model\n",
        "\n",
        "#!pip install tf-nightly\n",
        "import tensorflow as tf\n",
        "from tensorflow import keras\n",
        "\n",
        "model5 = tf.keras.Sequential([\n",
        "    tf.keras.layers.InputLayer(input_shape=(2,)),\n",
        "    tf.keras.layers.Dense(10, activation='relu'),\n",
        "    tf.keras.layers.Dense(2)\n",
        "])\n",
        "\n",
        "#model4.compile(loss='categorical_crossentropy', optimizer='adam', metrics=['acc'])\n",
        "model5.compile(optimizer='sgd', loss=tf.keras.losses.BinaryCrossentropy() )\n",
        "\n",
        "model5.summary()\n",
        "\n"
      ],
      "execution_count": null,
      "outputs": [
        {
          "output_type": "stream",
          "text": [
            "Model: \"sequential_4\"\n",
            "_________________________________________________________________\n",
            "Layer (type)                 Output Shape              Param #   \n",
            "=================================================================\n",
            "dense_6 (Dense)              (None, 10)                30        \n",
            "_________________________________________________________________\n",
            "dense_7 (Dense)              (None, 2)                 22        \n",
            "=================================================================\n",
            "Total params: 52\n",
            "Trainable params: 52\n",
            "Non-trainable params: 0\n",
            "_________________________________________________________________\n"
          ],
          "name": "stdout"
        }
      ]
    },
    {
      "cell_type": "code",
      "metadata": {
        "colab": {
          "base_uri": "https://localhost:8080/"
        },
        "id": "L3xnYGKoX6aA",
        "outputId": "b6fc0eb1-0480-4919-efe4-c4f4457083ec"
      },
      "source": [
        "history = model5.fit(X, y, epochs=100,batch_size=5,validation_split=0.1, shuffle=False)"
      ],
      "execution_count": null,
      "outputs": [
        {
          "output_type": "stream",
          "text": [
            "Epoch 1/100\n",
            "5/5 [==============================] - 0s 31ms/step - loss: 1.0660 - val_loss: -0.6379\n",
            "Epoch 2/100\n",
            "5/5 [==============================] - 0s 6ms/step - loss: -1.2244 - val_loss: -15.2492\n",
            "Epoch 3/100\n",
            "5/5 [==============================] - 0s 6ms/step - loss: -7.0449 - val_loss: -15.2492\n",
            "Epoch 4/100\n",
            "5/5 [==============================] - 0s 6ms/step - loss: -3.2192 - val_loss: -15.2492\n",
            "Epoch 5/100\n",
            "5/5 [==============================] - 0s 7ms/step - loss: -1.9890 - val_loss: -15.2492\n",
            "Epoch 6/100\n",
            "5/5 [==============================] - 0s 7ms/step - loss: -1.9890 - val_loss: -15.2492\n",
            "Epoch 7/100\n",
            "5/5 [==============================] - 0s 7ms/step - loss: -1.9890 - val_loss: -15.2492\n",
            "Epoch 8/100\n",
            "5/5 [==============================] - 0s 8ms/step - loss: -1.9890 - val_loss: -15.2492\n",
            "Epoch 9/100\n",
            "5/5 [==============================] - 0s 6ms/step - loss: -1.9890 - val_loss: -15.2492\n",
            "Epoch 10/100\n",
            "5/5 [==============================] - 0s 6ms/step - loss: -1.9890 - val_loss: -15.2492\n",
            "Epoch 11/100\n",
            "5/5 [==============================] - 0s 6ms/step - loss: -1.9890 - val_loss: -15.2492\n",
            "Epoch 12/100\n",
            "5/5 [==============================] - 0s 8ms/step - loss: -1.9890 - val_loss: -15.2492\n",
            "Epoch 13/100\n",
            "5/5 [==============================] - 0s 6ms/step - loss: -1.9890 - val_loss: -15.2492\n",
            "Epoch 14/100\n",
            "5/5 [==============================] - 0s 7ms/step - loss: -1.9890 - val_loss: -15.2492\n",
            "Epoch 15/100\n",
            "5/5 [==============================] - 0s 6ms/step - loss: -1.9890 - val_loss: -15.2492\n",
            "Epoch 16/100\n",
            "5/5 [==============================] - 0s 6ms/step - loss: -1.9890 - val_loss: -15.2492\n",
            "Epoch 17/100\n",
            "5/5 [==============================] - 0s 7ms/step - loss: -1.9890 - val_loss: -15.2492\n",
            "Epoch 18/100\n",
            "5/5 [==============================] - 0s 7ms/step - loss: -1.9890 - val_loss: -15.2492\n",
            "Epoch 19/100\n",
            "5/5 [==============================] - 0s 6ms/step - loss: -1.9890 - val_loss: -15.2492\n",
            "Epoch 20/100\n",
            "5/5 [==============================] - 0s 6ms/step - loss: -1.9890 - val_loss: -15.2492\n",
            "Epoch 21/100\n",
            "5/5 [==============================] - 0s 9ms/step - loss: -1.9890 - val_loss: -15.2492\n",
            "Epoch 22/100\n",
            "5/5 [==============================] - 0s 7ms/step - loss: -1.9890 - val_loss: -15.2492\n",
            "Epoch 23/100\n",
            "5/5 [==============================] - 0s 6ms/step - loss: -1.9890 - val_loss: -15.2492\n",
            "Epoch 24/100\n",
            "5/5 [==============================] - 0s 7ms/step - loss: -1.9890 - val_loss: -15.2492\n",
            "Epoch 25/100\n",
            "5/5 [==============================] - 0s 7ms/step - loss: -1.9890 - val_loss: -15.2492\n",
            "Epoch 26/100\n",
            "5/5 [==============================] - 0s 6ms/step - loss: -1.9890 - val_loss: -15.2492\n",
            "Epoch 27/100\n",
            "5/5 [==============================] - 0s 7ms/step - loss: -1.9890 - val_loss: -15.2492\n",
            "Epoch 28/100\n",
            "5/5 [==============================] - 0s 6ms/step - loss: -1.9890 - val_loss: -15.2492\n",
            "Epoch 29/100\n",
            "5/5 [==============================] - 0s 7ms/step - loss: -1.9890 - val_loss: -15.2492\n",
            "Epoch 30/100\n",
            "5/5 [==============================] - 0s 8ms/step - loss: -1.9890 - val_loss: -15.2492\n",
            "Epoch 31/100\n",
            "5/5 [==============================] - 0s 6ms/step - loss: -1.9890 - val_loss: -15.2492\n",
            "Epoch 32/100\n",
            "5/5 [==============================] - 0s 7ms/step - loss: -1.9890 - val_loss: -15.2492\n",
            "Epoch 33/100\n",
            "5/5 [==============================] - 0s 7ms/step - loss: -1.9890 - val_loss: -15.2492\n",
            "Epoch 34/100\n",
            "5/5 [==============================] - 0s 6ms/step - loss: -1.9890 - val_loss: -15.2492\n",
            "Epoch 35/100\n",
            "5/5 [==============================] - 0s 6ms/step - loss: -1.9890 - val_loss: -15.2492\n",
            "Epoch 36/100\n",
            "5/5 [==============================] - 0s 6ms/step - loss: -1.9890 - val_loss: -15.2492\n",
            "Epoch 37/100\n",
            "5/5 [==============================] - 0s 7ms/step - loss: -1.9890 - val_loss: -15.2492\n",
            "Epoch 38/100\n",
            "5/5 [==============================] - 0s 7ms/step - loss: -1.9890 - val_loss: -15.2492\n",
            "Epoch 39/100\n",
            "5/5 [==============================] - 0s 6ms/step - loss: -1.9890 - val_loss: -15.2492\n",
            "Epoch 40/100\n",
            "5/5 [==============================] - 0s 5ms/step - loss: -1.9890 - val_loss: -15.2492\n",
            "Epoch 41/100\n",
            "5/5 [==============================] - 0s 5ms/step - loss: -1.9890 - val_loss: -15.2492\n",
            "Epoch 42/100\n",
            "5/5 [==============================] - 0s 6ms/step - loss: -1.9890 - val_loss: -15.2492\n",
            "Epoch 43/100\n",
            "5/5 [==============================] - 0s 7ms/step - loss: -1.9890 - val_loss: -15.2492\n",
            "Epoch 44/100\n",
            "5/5 [==============================] - 0s 7ms/step - loss: -1.9890 - val_loss: -15.2492\n",
            "Epoch 45/100\n",
            "5/5 [==============================] - 0s 6ms/step - loss: -1.9890 - val_loss: -15.2492\n",
            "Epoch 46/100\n",
            "5/5 [==============================] - 0s 5ms/step - loss: -1.9890 - val_loss: -15.2492\n",
            "Epoch 47/100\n",
            "5/5 [==============================] - 0s 6ms/step - loss: -1.9890 - val_loss: -15.2492\n",
            "Epoch 48/100\n",
            "5/5 [==============================] - 0s 6ms/step - loss: -1.9890 - val_loss: -15.2492\n",
            "Epoch 49/100\n",
            "5/5 [==============================] - 0s 7ms/step - loss: -1.9890 - val_loss: -15.2492\n",
            "Epoch 50/100\n",
            "5/5 [==============================] - 0s 6ms/step - loss: -1.9890 - val_loss: -15.2492\n",
            "Epoch 51/100\n",
            "5/5 [==============================] - 0s 7ms/step - loss: -1.9890 - val_loss: -15.2492\n",
            "Epoch 52/100\n",
            "5/5 [==============================] - 0s 8ms/step - loss: -1.9890 - val_loss: -15.2492\n",
            "Epoch 53/100\n",
            "5/5 [==============================] - 0s 7ms/step - loss: -1.9890 - val_loss: -15.2492\n",
            "Epoch 54/100\n",
            "5/5 [==============================] - 0s 7ms/step - loss: -1.9890 - val_loss: -15.2492\n",
            "Epoch 55/100\n",
            "5/5 [==============================] - 0s 5ms/step - loss: -1.9890 - val_loss: -15.2492\n",
            "Epoch 56/100\n",
            "5/5 [==============================] - 0s 6ms/step - loss: -1.9890 - val_loss: -15.2492\n",
            "Epoch 57/100\n",
            "5/5 [==============================] - 0s 5ms/step - loss: -1.9890 - val_loss: -15.2492\n",
            "Epoch 58/100\n",
            "5/5 [==============================] - 0s 7ms/step - loss: -1.9890 - val_loss: -15.2492\n",
            "Epoch 59/100\n",
            "5/5 [==============================] - 0s 5ms/step - loss: -1.9890 - val_loss: -15.2492\n",
            "Epoch 60/100\n",
            "5/5 [==============================] - 0s 6ms/step - loss: -1.9890 - val_loss: -15.2492\n",
            "Epoch 61/100\n",
            "5/5 [==============================] - 0s 5ms/step - loss: -1.9890 - val_loss: -15.2492\n",
            "Epoch 62/100\n",
            "5/5 [==============================] - 0s 7ms/step - loss: -1.9890 - val_loss: -15.2492\n",
            "Epoch 63/100\n",
            "5/5 [==============================] - 0s 6ms/step - loss: -1.9890 - val_loss: -15.2492\n",
            "Epoch 64/100\n",
            "5/5 [==============================] - 0s 8ms/step - loss: -1.9890 - val_loss: -15.2492\n",
            "Epoch 65/100\n",
            "5/5 [==============================] - 0s 6ms/step - loss: -1.9890 - val_loss: -15.2492\n",
            "Epoch 66/100\n",
            "5/5 [==============================] - 0s 8ms/step - loss: -1.9890 - val_loss: -15.2492\n",
            "Epoch 67/100\n",
            "5/5 [==============================] - 0s 6ms/step - loss: -1.9890 - val_loss: -15.2492\n",
            "Epoch 68/100\n",
            "5/5 [==============================] - 0s 8ms/step - loss: -1.9890 - val_loss: -15.2492\n",
            "Epoch 69/100\n",
            "5/5 [==============================] - 0s 6ms/step - loss: -1.9890 - val_loss: -15.2492\n",
            "Epoch 70/100\n",
            "5/5 [==============================] - 0s 7ms/step - loss: -1.9890 - val_loss: -15.2492\n",
            "Epoch 71/100\n",
            "5/5 [==============================] - 0s 6ms/step - loss: -1.9890 - val_loss: -15.2492\n",
            "Epoch 72/100\n",
            "5/5 [==============================] - 0s 7ms/step - loss: -1.9890 - val_loss: -15.2492\n",
            "Epoch 73/100\n",
            "5/5 [==============================] - 0s 8ms/step - loss: -1.9890 - val_loss: -15.2492\n",
            "Epoch 74/100\n",
            "5/5 [==============================] - 0s 6ms/step - loss: -1.9890 - val_loss: -15.2492\n",
            "Epoch 75/100\n",
            "5/5 [==============================] - 0s 7ms/step - loss: -1.9890 - val_loss: -15.2492\n",
            "Epoch 76/100\n",
            "5/5 [==============================] - 0s 6ms/step - loss: -1.9890 - val_loss: -15.2492\n",
            "Epoch 77/100\n",
            "5/5 [==============================] - 0s 7ms/step - loss: -1.9890 - val_loss: -15.2492\n",
            "Epoch 78/100\n",
            "5/5 [==============================] - 0s 6ms/step - loss: -1.9890 - val_loss: -15.2492\n",
            "Epoch 79/100\n",
            "5/5 [==============================] - 0s 6ms/step - loss: -1.9890 - val_loss: -15.2492\n",
            "Epoch 80/100\n",
            "5/5 [==============================] - 0s 6ms/step - loss: -1.9890 - val_loss: -15.2492\n",
            "Epoch 81/100\n",
            "5/5 [==============================] - 0s 7ms/step - loss: -1.9890 - val_loss: -15.2492\n",
            "Epoch 82/100\n",
            "5/5 [==============================] - 0s 6ms/step - loss: -1.9890 - val_loss: -15.2492\n",
            "Epoch 83/100\n",
            "5/5 [==============================] - 0s 5ms/step - loss: -1.9890 - val_loss: -15.2492\n",
            "Epoch 84/100\n",
            "5/5 [==============================] - 0s 7ms/step - loss: -1.9890 - val_loss: -15.2492\n",
            "Epoch 85/100\n",
            "5/5 [==============================] - 0s 6ms/step - loss: -1.9890 - val_loss: -15.2492\n",
            "Epoch 86/100\n",
            "5/5 [==============================] - 0s 6ms/step - loss: -1.9890 - val_loss: -15.2492\n",
            "Epoch 87/100\n",
            "5/5 [==============================] - 0s 5ms/step - loss: -1.9890 - val_loss: -15.2492\n",
            "Epoch 88/100\n",
            "5/5 [==============================] - 0s 7ms/step - loss: -1.9890 - val_loss: -15.2492\n",
            "Epoch 89/100\n",
            "5/5 [==============================] - 0s 7ms/step - loss: -1.9890 - val_loss: -15.2492\n",
            "Epoch 90/100\n",
            "5/5 [==============================] - 0s 7ms/step - loss: -1.9890 - val_loss: -15.2492\n",
            "Epoch 91/100\n",
            "5/5 [==============================] - 0s 6ms/step - loss: -1.9890 - val_loss: -15.2492\n",
            "Epoch 92/100\n",
            "5/5 [==============================] - 0s 6ms/step - loss: -1.9890 - val_loss: -15.2492\n",
            "Epoch 93/100\n",
            "5/5 [==============================] - 0s 6ms/step - loss: -1.9890 - val_loss: -15.2492\n",
            "Epoch 94/100\n",
            "5/5 [==============================] - 0s 7ms/step - loss: -1.9890 - val_loss: -15.2492\n",
            "Epoch 95/100\n",
            "5/5 [==============================] - 0s 6ms/step - loss: -1.9890 - val_loss: -15.2492\n",
            "Epoch 96/100\n",
            "5/5 [==============================] - 0s 6ms/step - loss: -1.9890 - val_loss: -15.2492\n",
            "Epoch 97/100\n",
            "5/5 [==============================] - 0s 5ms/step - loss: -1.9890 - val_loss: -15.2492\n",
            "Epoch 98/100\n",
            "5/5 [==============================] - 0s 6ms/step - loss: -1.9890 - val_loss: -15.2492\n",
            "Epoch 99/100\n",
            "5/5 [==============================] - 0s 6ms/step - loss: -1.9890 - val_loss: -15.2492\n",
            "Epoch 100/100\n",
            "5/5 [==============================] - 0s 5ms/step - loss: -1.9890 - val_loss: -15.2492\n"
          ],
          "name": "stdout"
        }
      ]
    },
    {
      "cell_type": "code",
      "metadata": {
        "colab": {
          "base_uri": "https://localhost:8080/",
          "height": 265
        },
        "id": "JzK9dDfAJ8BA",
        "outputId": "9184e1da-53ce-4a6b-931c-b37647ecfd8d"
      },
      "source": [
        "import matplotlib.pyplot as plt\n",
        "plt.plot(history.history['loss'], label='train')\n",
        "plt.plot(history.history['val_loss'], label='test')\n",
        "plt.legend();\n"
      ],
      "execution_count": null,
      "outputs": [
        {
          "output_type": "display_data",
          "data": {
            "image/png": "[encoded data removed]",
            "text/plain": [
              "<Figure size 432x288 with 1 Axes>"
            ]
          },
          "metadata": {
            "tags": [],
            "needs_background": "light"
          }
        }
      ]
    },
    {
      "cell_type": "code",
      "metadata": {
        "id": "R6kYRlOfKG-O"
      },
      "source": [
        "#error1b : this is a disfunctional code.\n",
        "\n",
        "#xtest=X.iloc[0]\n",
        "#xtest2=[[1,1],[]]\n",
        "#xtest2 = [i/2 for i in xtest2]\n",
        "#model.evaluate(X_test, y_test)\n",
        "#ypred = model5.predict(xtest)\n",
        "#ypred\n"
      ],
      "execution_count": null,
      "outputs": []
    },
    {
      "cell_type": "code",
      "metadata": {
        "colab": {
          "base_uri": "https://localhost:8080/"
        },
        "id": "TTY6UlQGwq7h",
        "outputId": "a54d7153-a530-4f55-aef1-b2172a955b34"
      },
      "source": [
        "#Test on a single value:\n",
        "Test=[[1,1,0]]\n",
        "#We must turn it into a dataframe (error 1b).\n",
        "dft= pd.DataFrame(Test, columns=['x','y','classe'])\n",
        "y=dft.classe\n",
        "Xt=dft.iloc[:, 0:2]/2\n",
        "\n",
        "#predict\n",
        "ypred = model5.predict(Xt)\n",
        "ypred"
      ],
      "execution_count": null,
      "outputs": [
        {
          "output_type": "execute_result",
          "data": {
            "text/plain": [
              "array([[19.323631,  1.769122]], dtype=float32)"
            ]
          },
          "metadata": {
            "tags": []
          },
          "execution_count": 20
        }
      ]
    },
    {
      "cell_type": "code",
      "metadata": {
        "colab": {
          "base_uri": "https://localhost:8080/"
        },
        "id": "Tulm0W9h2Mw4",
        "outputId": "5c3f717f-e17d-489c-d7d0-fdf5350ffa3a"
      },
      "source": [
        "#Modify the output to get probabilities\n",
        "probability_model = tf.keras.Sequential([model5, \n",
        "                                         tf.keras.layers.Softmax()])\n",
        "probability_model.predict(Xt)"
      ],
      "execution_count": null,
      "outputs": [
        {
          "output_type": "execute_result",
          "data": {
            "text/plain": [
              "array([[1.000000e+00, 2.377788e-08]], dtype=float32)"
            ]
          },
          "metadata": {
            "tags": []
          },
          "execution_count": 21
        }
      ]
    },
    {
      "cell_type": "code",
      "metadata": {
        "colab": {
          "base_uri": "https://localhost:8080/"
        },
        "id": "HjQD-UY12fuF",
        "outputId": "8b98265f-05c7-4c28-977c-7220c447bad8"
      },
      "source": [
        "#Export the model\n",
        "!python -m tf2onnx.convert --saved-model /content/2/ --output modelb.onnx"
      ],
      "execution_count": null,
      "outputs": [
        {
          "output_type": "stream",
          "text": [
            "/usr/bin/python3: Error while finding module specification for 'tf2onnx.convert' (ModuleNotFoundError: No module named 'tf2onnx')\n"
          ],
          "name": "stdout"
        }
      ]
    },
    {
      "cell_type": "code",
      "metadata": {
        "colab": {
          "base_uri": "https://localhost:8080/"
        },
        "id": "BPumfmkk2pOp",
        "outputId": "7c9a6705-d39e-4572-96e1-92bc88e5f084"
      },
      "source": [
        "#export probability model\n",
        "probability_model.save('/content/2/')\n",
        "!python -m tf2onnx.convert --saved-model /content/2/ --output modelb2.onnx"
      ],
      "execution_count": null,
      "outputs": [
        {
          "output_type": "stream",
          "text": [
            "WARNING:tensorflow:From /usr/local/lib/python3.6/dist-packages/tensorflow/python/training/tracking/tracking.py:111: Model.state_updates (from tensorflow.python.keras.engine.training) is deprecated and will be removed in a future version.\n",
            "Instructions for updating:\n",
            "This property should not be used in TensorFlow 2.0, as updates are applied automatically.\n",
            "WARNING:tensorflow:From /usr/local/lib/python3.6/dist-packages/tensorflow/python/training/tracking/tracking.py:111: Layer.updates (from tensorflow.python.keras.engine.base_layer) is deprecated and will be removed in a future version.\n",
            "Instructions for updating:\n",
            "This property should not be used in TensorFlow 2.0, as updates are applied automatically.\n",
            "INFO:tensorflow:Assets written to: /content/2/assets\n",
            "/usr/bin/python3: Error while finding module specification for 'tf2onnx.convert' (ModuleNotFoundError: No module named 'tf2onnx')\n"
          ],
          "name": "stdout"
        }
      ]
    },
    {
      "cell_type": "code",
      "metadata": {
        "id": "VbdGHyKJ-GYT"
      },
      "source": [
        "df= pd.DataFrame(Train, columns=['x','y','classe'])\n",
        "\n",
        "\n",
        "X=df.iloc[:, 0:2]/2\n",
        "y=df.classe"
      ],
      "execution_count": null,
      "outputs": []
    }
  ]
}